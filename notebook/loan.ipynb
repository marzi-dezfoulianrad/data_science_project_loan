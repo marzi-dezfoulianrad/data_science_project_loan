{
 "cells": [
  {
   "cell_type": "markdown",
   "id": "2128a50e",
   "metadata": {},
   "source": [
    "My first Data Science project all by myself. Exciting!"
   ]
  },
  {
   "cell_type": "markdown",
   "id": "6a9a7362",
   "metadata": {},
   "source": [
    "Loading Data and Initial Imports"
   ]
  },
  {
   "cell_type": "code",
   "execution_count": 46,
   "id": "f058bb5b",
   "metadata": {},
   "outputs": [],
   "source": [
    "import os\n",
    "os.environ['SCIPY_ARRAY_API'] = '1'\n",
    "\n",
    "import numpy as np\n",
    "import pandas as pd\n",
    "from sklearn.preprocessing import LabelEncoder, StandardScaler\n",
    "from sklearn.model_selection import train_test_split\n",
    "from imblearn.over_sampling import SMOTE\n",
    "import matplotlib.pyplot as plt\n"
   ]
  },
  {
   "cell_type": "code",
   "execution_count": 47,
   "id": "04ae4a1c",
   "metadata": {},
   "outputs": [],
   "source": [
    "loan = pd.read_csv(\"../data/input/loan.csv\")"
   ]
  },
  {
   "cell_type": "markdown",
   "id": "22d1c2fc",
   "metadata": {},
   "source": [
    "# Data Cleaning"
   ]
  },
  {
   "cell_type": "markdown",
   "id": "f3593e8a",
   "metadata": {},
   "source": [
    "Filling Missing Values"
   ]
  },
  {
   "cell_type": "markdown",
   "id": "cbd5d046",
   "metadata": {},
   "source": [
    "Finding out whether to use Mean or Median for our Numerical Columns"
   ]
  },
  {
   "cell_type": "code",
   "execution_count": 19,
   "id": "82ab6b77",
   "metadata": {},
   "outputs": [
    {
     "name": "stdout",
     "output_type": "stream",
     "text": [
      "Missing values after cleaning:\n",
      "Gender               0\n",
      "Married              0\n",
      "Dependents           0\n",
      "Education            0\n",
      "Self_Employed        0\n",
      "ApplicantIncome      0\n",
      "CoapplicantIncome    0\n",
      "LoanAmount           0\n",
      "Loan_Amount_Term     0\n",
      "Credit_History       0\n",
      "Property_Area        0\n",
      "Loan_Status          0\n",
      "dtype: int64\n"
     ]
    },
    {
     "name": "stderr",
     "output_type": "stream",
     "text": [
      "C:\\Users\\Parsan Afzar\\AppData\\Local\\Temp\\ipykernel_7740\\576441849.py:2: FutureWarning: A value is trying to be set on a copy of a DataFrame or Series through chained assignment using an inplace method.\n",
      "The behavior will change in pandas 3.0. This inplace method will never work because the intermediate object on which we are setting values always behaves as a copy.\n",
      "\n",
      "For example, when doing 'df[col].method(value, inplace=True)', try using 'df.method({col: value}, inplace=True)' or df[col] = df[col].method(value) instead, to perform the operation inplace on the original object.\n",
      "\n",
      "\n",
      "  loan['ApplicantIncome'].fillna(loan['ApplicantIncome'].median(), inplace=True)\n",
      "C:\\Users\\Parsan Afzar\\AppData\\Local\\Temp\\ipykernel_7740\\576441849.py:3: FutureWarning: A value is trying to be set on a copy of a DataFrame or Series through chained assignment using an inplace method.\n",
      "The behavior will change in pandas 3.0. This inplace method will never work because the intermediate object on which we are setting values always behaves as a copy.\n",
      "\n",
      "For example, when doing 'df[col].method(value, inplace=True)', try using 'df.method({col: value}, inplace=True)' or df[col] = df[col].method(value) instead, to perform the operation inplace on the original object.\n",
      "\n",
      "\n",
      "  loan['CoapplicantIncome'].fillna(loan['CoapplicantIncome'].median(), inplace=True)\n",
      "C:\\Users\\Parsan Afzar\\AppData\\Local\\Temp\\ipykernel_7740\\576441849.py:4: FutureWarning: A value is trying to be set on a copy of a DataFrame or Series through chained assignment using an inplace method.\n",
      "The behavior will change in pandas 3.0. This inplace method will never work because the intermediate object on which we are setting values always behaves as a copy.\n",
      "\n",
      "For example, when doing 'df[col].method(value, inplace=True)', try using 'df.method({col: value}, inplace=True)' or df[col] = df[col].method(value) instead, to perform the operation inplace on the original object.\n",
      "\n",
      "\n",
      "  loan['LoanAmount'].fillna(loan['LoanAmount'].median(), inplace=True)\n",
      "C:\\Users\\Parsan Afzar\\AppData\\Local\\Temp\\ipykernel_7740\\576441849.py:8: FutureWarning: A value is trying to be set on a copy of a DataFrame or Series through chained assignment using an inplace method.\n",
      "The behavior will change in pandas 3.0. This inplace method will never work because the intermediate object on which we are setting values always behaves as a copy.\n",
      "\n",
      "For example, when doing 'df[col].method(value, inplace=True)', try using 'df.method({col: value}, inplace=True)' or df[col] = df[col].method(value) instead, to perform the operation inplace on the original object.\n",
      "\n",
      "\n",
      "  loan[col].fillna(loan[col].mode()[0], inplace=True)\n"
     ]
    }
   ],
   "source": [
    "# Filling Numerical Values with Median cause they are right skewed\n",
    "loan['ApplicantIncome'].fillna(loan['ApplicantIncome'].median(), inplace=True)\n",
    "loan['CoapplicantIncome'].fillna(loan['CoapplicantIncome'].median(), inplace=True)\n",
    "loan['LoanAmount'].fillna(loan['LoanAmount'].median(), inplace=True)\n",
    "\n",
    "# Filling Categorical and Discrete Values with Mode\n",
    "for col in ['Gender', 'Married', 'Dependents', 'Self_Employed', 'Loan_Amount_Term', 'Credit_History']:\n",
    "    loan[col].fillna(loan[col].mode()[0], inplace=True)\n",
    "    \n",
    "print(\"Missing values after cleaning:\")\n",
    "print(loan.isna().sum())"
   ]
  },
  {
   "cell_type": "markdown",
   "id": "e997148e",
   "metadata": {},
   "source": [
    "Feature Engineering and Encoding"
   ]
  },
  {
   "cell_type": "code",
   "execution_count": 20,
   "id": "570c934b",
   "metadata": {},
   "outputs": [],
   "source": [
    "df_processed = loan.copy() # DataFrame for processed data"
   ]
  },
  {
   "cell_type": "markdown",
   "id": "d3115751",
   "metadata": {},
   "source": [
    "Filling NaN values:"
   ]
  },
  {
   "cell_type": "code",
   "execution_count": 21,
   "id": "0ae2dd18",
   "metadata": {},
   "outputs": [],
   "source": [
    "df_processed.update(pd.DataFrame({\n",
    "    \n",
    "    # Median\n",
    "    \"ApplicantIncomde\":  loan[\"ApplicantIncome\"].fillna(loan[\"ApplicantIncome\"].median()),\n",
    "    \"CoapplicantIncome\": loan[\"CoapplicantIncome\"].fillna(loan[\"CoapplicantIncome\"].median()),\n",
    "    \"loanAmount\":        loan[\"LoanAmount\"].fillna(loan[\"LoanAmount\"].median()),\n",
    "\n",
    "    # Mode\n",
    "    \"Loan_Amount_Term\":  loan[\"Loan_Amount_Term\"].fillna(loan[\"Loan_Amount_Term\"].mode()[0]),\n",
    "    \"Gender\":            loan[\"Gender\"].fillna(loan[\"Gender\"].mode()[0]),\n",
    "    \"Married\":           loan[\"Married\"].fillna(loan[\"Married\"].mode()[0]),\n",
    "    \"Self_Employed\":     loan[\"Self_Employed\"].fillna(loan[\"Self_Employed\"].mode()[0]),\n",
    "    \"Dependents\":        loan[\"Dependents\"].fillna(loan[\"Dependents\"].mode()[0]),\n",
    "    \"Credit_History\":    loan[\"Credit_History\"].fillna(loan[\"Credit_History\"].mode()[0]),\n",
    "}))"
   ]
  },
  {
   "cell_type": "code",
   "execution_count": 22,
   "id": "4f31760a",
   "metadata": {},
   "outputs": [
    {
     "name": "stdout",
     "output_type": "stream",
     "text": [
      "Gender               0\n",
      "Married              0\n",
      "Dependents           0\n",
      "Education            0\n",
      "Self_Employed        0\n",
      "ApplicantIncome      0\n",
      "CoapplicantIncome    0\n",
      "LoanAmount           0\n",
      "Loan_Amount_Term     0\n",
      "Credit_History       0\n",
      "Property_Area        0\n",
      "Loan_Status          0\n",
      "dtype: int64\n"
     ]
    }
   ],
   "source": [
    "print(df_processed.isna().sum())"
   ]
  },
  {
   "cell_type": "markdown",
   "id": "0247ee7b",
   "metadata": {},
   "source": [
    "One_Hot Encoding for Nominal Columns"
   ]
  },
  {
   "cell_type": "code",
   "execution_count": 23,
   "id": "c354f941",
   "metadata": {},
   "outputs": [
    {
     "name": "stdout",
     "output_type": "stream",
     "text": [
      "  Dependents     Education  ...  Property_Area_Semiurban  Property_Area_Urban\n",
      "0          0      Graduate  ...                    False                 True\n",
      "1          1      Graduate  ...                    False                False\n",
      "2          0      Graduate  ...                    False                 True\n",
      "3          0  Not Graduate  ...                    False                 True\n",
      "4          0      Graduate  ...                    False                 True\n",
      "\n",
      "[5 rows x 13 columns]\n"
     ]
    }
   ],
   "source": [
    "nominal_cols = ['Gender', 'Married', 'Self_Employed', 'Credit_History', 'Property_Area']\n",
    "loan_hot_encoded = pd.get_dummies(loan, columns=nominal_cols, drop_first=True)\n",
    "print(loan_hot_encoded.head())"
   ]
  },
  {
   "cell_type": "markdown",
   "id": "f029a10b",
   "metadata": {},
   "source": [
    "Label Encoding for ordinal columns"
   ]
  },
  {
   "cell_type": "code",
   "execution_count": 24,
   "id": "0e1838b5",
   "metadata": {},
   "outputs": [
    {
     "name": "stdout",
     "output_type": "stream",
     "text": [
      "  Dependents  Education  ...  Property_Area_Semiurban  Property_Area_Urban\n",
      "0          0          0  ...                    False                 True\n",
      "1          1          0  ...                    False                False\n",
      "2          0          0  ...                    False                 True\n",
      "3          0          1  ...                    False                 True\n",
      "4          0          0  ...                    False                 True\n",
      "\n",
      "[5 rows x 13 columns]\n"
     ]
    }
   ],
   "source": [
    "from sklearn.preprocessing import LabelEncoder\n",
    "\n",
    "le = LabelEncoder()\n",
    "ordinal_cols = ['Education', 'Loan_Status']\n",
    "for col in ordinal_cols:\n",
    "    loan_hot_encoded[col] = le.fit_transform(loan_hot_encoded[col])\n",
    "\n",
    "print(loan_hot_encoded.head())"
   ]
  },
  {
   "cell_type": "code",
   "execution_count": 25,
   "id": "b66cb360",
   "metadata": {},
   "outputs": [
    {
     "name": "stdout",
     "output_type": "stream",
     "text": [
      "Loan_Status    0    1\n",
      "Married_Yes          \n",
      "False         79  134\n",
      "True         113  288\n",
      "\n",
      "Loan_Status           0    1\n",
      "Credit_History_1.0          \n",
      "False                82    7\n",
      "True                110  415\n"
     ]
    }
   ],
   "source": [
    "# Just out of curiosity!!\n",
    "\n",
    "married_crosstab = pd.crosstab(loan_hot_encoded['Married_Yes'], loan_hot_encoded['Loan_Status'])\n",
    "print(married_crosstab)\n",
    "\n",
    "credit_crosstab = pd.crosstab(loan_hot_encoded['Credit_History_1.0'], loan_hot_encoded['Loan_Status'])\n",
    "print(f\"\\n{credit_crosstab}\")"
   ]
  },
  {
   "cell_type": "code",
   "execution_count": 26,
   "id": "c7e0decf",
   "metadata": {},
   "outputs": [],
   "source": [
    "X = loan_hot_encoded.drop('Loan_Status', axis=1)\n",
    "y = loan_hot_encoded['Loan_Status']"
   ]
  },
  {
   "cell_type": "code",
   "execution_count": 27,
   "id": "c2a942d5",
   "metadata": {},
   "outputs": [
    {
     "name": "stdout",
     "output_type": "stream",
     "text": [
      "Total data size: 614\n",
      "------------------------------\n",
      "Training set size: 398 (65%)\n",
      "Validation set size: 123 (20%)\n",
      "Test set size: 93 (15%)\n"
     ]
    }
   ],
   "source": [
    "from sklearn.model_selection import train_test_split\n",
    "\n",
    "# Seperating X and y\n",
    "X = loan_hot_encoded.drop('Loan_Status', axis=1)\n",
    "y = loan_hot_encoded['Loan_Status']\n",
    "\n",
    "# Splitting the dataset into training and testing set\n",
    "X_train_val, X_test, y_train_val, y_test = train_test_split(X, y, test_size=0.15, random_state=42, stratify=y)\n",
    "\n",
    "validation_ration = 0.20 / 0.85\n",
    "X_train, X_val, y_train, y_val = train_test_split(X_train_val, y_train_val, test_size=validation_ration, random_state=42, stratify=y_train_val)\n",
    "\n",
    "print(f\"Total data size: {len(loan_hot_encoded)}\")\n",
    "print(\"-\" * 30)\n",
    "print(f\"Training set size: {len(X_train)} ({len(X_train)/len(loan_hot_encoded):.0%})\")\n",
    "print(f\"Validation set size: {len(X_val)} ({len(X_val)/len(loan_hot_encoded):.0%})\")\n",
    "print(f\"Test set size: {len(X_test)} ({len(X_test)/len(loan_hot_encoded):.0%})\")"
   ]
  },
  {
   "cell_type": "code",
   "execution_count": 28,
   "id": "becc02da",
   "metadata": {},
   "outputs": [
    {
     "name": "stdout",
     "output_type": "stream",
     "text": [
      "   LoanAmount  Total_Income  Loan_to_Income_Ratio  Loan_per_Month\n",
      "0       128.0        5849.0              0.021884        4.266667\n",
      "1       128.0        6091.0              0.021015        4.266667\n",
      "2        66.0        3000.0              0.022000        2.200000\n",
      "3       120.0        4941.0              0.024287        4.000000\n",
      "4       141.0        6000.0              0.023500        4.700000\n"
     ]
    }
   ],
   "source": [
    "# Curiousity about the data\n",
    "loan_hot_encoded['Total_Income'] = loan_hot_encoded['ApplicantIncome'] + loan_hot_encoded['CoapplicantIncome']\n",
    "\n",
    "loan_hot_encoded['Loan_to_Income_Ratio'] = loan_hot_encoded['LoanAmount'] / loan_hot_encoded['Total_Income']\n",
    "\n",
    "loan_hot_encoded['Loan_per_Month'] = loan_hot_encoded['LoanAmount'] / (loan_hot_encoded['Loan_Amount_Term'] / 12)\n",
    "\n",
    "print(loan_hot_encoded[['LoanAmount', 'Total_Income', 'Loan_to_Income_Ratio', 'Loan_per_Month']].head())"
   ]
  },
  {
   "cell_type": "code",
   "execution_count": 29,
   "id": "09a99b4e",
   "metadata": {},
   "outputs": [
    {
     "name": "stdout",
     "output_type": "stream",
     "text": [
      "\n",
      "Scaled Data Head:\n",
      "     ApplicantIncome_Log  ...  Loan_per_Month\n",
      "332            -0.648050  ...       -0.493857\n",
      "320            -0.907933  ...       -0.287872\n",
      "49             -0.107521  ...       -0.152110\n",
      "274            -0.147195  ...       -0.404909\n",
      "25              1.257924  ...        0.067919\n",
      "\n",
      "[5 rows x 6 columns]\n"
     ]
    }
   ],
   "source": [
    "from sklearn.preprocessing import StandardScaler\n",
    "\n",
    "loan_hot_encoded['ApplicantIncome_Log']   = np.log1p(loan_hot_encoded['ApplicantIncome'])\n",
    "loan_hot_encoded['CoapplicantIncome_Log'] = np.log1p(loan_hot_encoded['CoapplicantIncome'])\n",
    "loan_hot_encoded['LoanAmount_Log']        = np.log1p(loan_hot_encoded['LoanAmount'])\n",
    "\n",
    "loan_hot_encoded['Total_Income']        = loan_hot_encoded['ApplicantIncome'] + loan_hot_encoded['CoapplicantIncome']\n",
    "loan_hot_encoded['Loan_to_Income_Ratio']= loan_hot_encoded['LoanAmount'] / loan_hot_encoded['Total_Income']\n",
    "loan_hot_encoded['Loan_per_Month']      = loan_hot_encoded['LoanAmount'] / loan_hot_encoded['Loan_Amount_Term']\n",
    "\n",
    "X = loan_hot_encoded.drop(columns=['Loan_Status',\n",
    "                                   'ApplicantIncome',\n",
    "                                   'CoapplicantIncome',\n",
    "                                   'LoanAmount'])        \n",
    "y = loan_hot_encoded['Loan_Status']\n",
    "\n",
    "X_train, X_temp, y_train, y_temp = train_test_split(X, y, test_size=0.4, random_state=42)\n",
    "X_val,   X_test, y_val,   y_test = train_test_split(X_temp, y_temp, test_size=0.5, random_state=42)\n",
    "\n",
    "cols_to_scale = ['ApplicantIncome_Log', 'CoapplicantIncome_Log', 'LoanAmount_Log',\n",
    "                 'Total_Income', 'Loan_to_Income_Ratio', 'Loan_per_Month']\n",
    "\n",
    "scaler = StandardScaler()\n",
    "scaler.fit(X_train[cols_to_scale])\n",
    "\n",
    "X_train_scaled = X_train.copy()\n",
    "X_val_scaled   = X_val.copy()\n",
    "X_test_scaled  = X_test.copy()\n",
    "\n",
    "X_train_scaled[cols_to_scale] = scaler.transform(X_train[cols_to_scale])\n",
    "X_val_scaled[cols_to_scale]   = scaler.transform(X_val[cols_to_scale])\n",
    "X_test_scaled[cols_to_scale]  = scaler.transform(X_test[cols_to_scale])\n",
    "\n",
    "print(\"\\nScaled Data Head:\")\n",
    "print(X_train_scaled[cols_to_scale].head())"
   ]
  },
  {
   "cell_type": "code",
   "execution_count": 30,
   "id": "f445cf5c",
   "metadata": {},
   "outputs": [
    {
     "name": "stderr",
     "output_type": "stream",
     "text": [
      "c:\\Users\\Parsan Afzar\\AppData\\Local\\Programs\\Python\\Python313\\Lib\\site-packages\\sklearn\\linear_model\\_sag.py:348: ConvergenceWarning: The max_iter was reached which means the coef_ did not converge\n",
      "  warnings.warn(\n",
      "c:\\Users\\Parsan Afzar\\AppData\\Local\\Programs\\Python\\Python313\\Lib\\site-packages\\sklearn\\linear_model\\_sag.py:348: ConvergenceWarning: The max_iter was reached which means the coef_ did not converge\n",
      "  warnings.warn(\n",
      "c:\\Users\\Parsan Afzar\\AppData\\Local\\Programs\\Python\\Python313\\Lib\\site-packages\\sklearn\\linear_model\\_sag.py:348: ConvergenceWarning: The max_iter was reached which means the coef_ did not converge\n",
      "  warnings.warn(\n",
      "c:\\Users\\Parsan Afzar\\AppData\\Local\\Programs\\Python\\Python313\\Lib\\site-packages\\sklearn\\linear_model\\_sag.py:348: ConvergenceWarning: The max_iter was reached which means the coef_ did not converge\n",
      "  warnings.warn(\n",
      "c:\\Users\\Parsan Afzar\\AppData\\Local\\Programs\\Python\\Python313\\Lib\\site-packages\\sklearn\\linear_model\\_sag.py:348: ConvergenceWarning: The max_iter was reached which means the coef_ did not converge\n",
      "  warnings.warn(\n",
      "c:\\Users\\Parsan Afzar\\AppData\\Local\\Programs\\Python\\Python313\\Lib\\site-packages\\sklearn\\linear_model\\_sag.py:348: ConvergenceWarning: The max_iter was reached which means the coef_ did not converge\n",
      "  warnings.warn(\n",
      "c:\\Users\\Parsan Afzar\\AppData\\Local\\Programs\\Python\\Python313\\Lib\\site-packages\\sklearn\\linear_model\\_sag.py:348: ConvergenceWarning: The max_iter was reached which means the coef_ did not converge\n",
      "  warnings.warn(\n",
      "c:\\Users\\Parsan Afzar\\AppData\\Local\\Programs\\Python\\Python313\\Lib\\site-packages\\sklearn\\linear_model\\_sag.py:348: ConvergenceWarning: The max_iter was reached which means the coef_ did not converge\n",
      "  warnings.warn(\n",
      "c:\\Users\\Parsan Afzar\\AppData\\Local\\Programs\\Python\\Python313\\Lib\\site-packages\\sklearn\\linear_model\\_sag.py:348: ConvergenceWarning: The max_iter was reached which means the coef_ did not converge\n",
      "  warnings.warn(\n",
      "c:\\Users\\Parsan Afzar\\AppData\\Local\\Programs\\Python\\Python313\\Lib\\site-packages\\sklearn\\linear_model\\_sag.py:348: ConvergenceWarning: The max_iter was reached which means the coef_ did not converge\n",
      "  warnings.warn(\n",
      "c:\\Users\\Parsan Afzar\\AppData\\Local\\Programs\\Python\\Python313\\Lib\\site-packages\\sklearn\\linear_model\\_sag.py:348: ConvergenceWarning: The max_iter was reached which means the coef_ did not converge\n",
      "  warnings.warn(\n",
      "c:\\Users\\Parsan Afzar\\AppData\\Local\\Programs\\Python\\Python313\\Lib\\site-packages\\sklearn\\linear_model\\_sag.py:348: ConvergenceWarning: The max_iter was reached which means the coef_ did not converge\n",
      "  warnings.warn(\n",
      "c:\\Users\\Parsan Afzar\\AppData\\Local\\Programs\\Python\\Python313\\Lib\\site-packages\\sklearn\\linear_model\\_sag.py:348: ConvergenceWarning: The max_iter was reached which means the coef_ did not converge\n",
      "  warnings.warn(\n",
      "c:\\Users\\Parsan Afzar\\AppData\\Local\\Programs\\Python\\Python313\\Lib\\site-packages\\sklearn\\linear_model\\_sag.py:348: ConvergenceWarning: The max_iter was reached which means the coef_ did not converge\n",
      "  warnings.warn(\n",
      "c:\\Users\\Parsan Afzar\\AppData\\Local\\Programs\\Python\\Python313\\Lib\\site-packages\\sklearn\\linear_model\\_sag.py:348: ConvergenceWarning: The max_iter was reached which means the coef_ did not converge\n",
      "  warnings.warn(\n",
      "c:\\Users\\Parsan Afzar\\AppData\\Local\\Programs\\Python\\Python313\\Lib\\site-packages\\sklearn\\linear_model\\_sag.py:348: ConvergenceWarning: The max_iter was reached which means the coef_ did not converge\n",
      "  warnings.warn(\n",
      "c:\\Users\\Parsan Afzar\\AppData\\Local\\Programs\\Python\\Python313\\Lib\\site-packages\\sklearn\\linear_model\\_sag.py:348: ConvergenceWarning: The max_iter was reached which means the coef_ did not converge\n",
      "  warnings.warn(\n",
      "c:\\Users\\Parsan Afzar\\AppData\\Local\\Programs\\Python\\Python313\\Lib\\site-packages\\sklearn\\linear_model\\_sag.py:348: ConvergenceWarning: The max_iter was reached which means the coef_ did not converge\n",
      "  warnings.warn(\n",
      "c:\\Users\\Parsan Afzar\\AppData\\Local\\Programs\\Python\\Python313\\Lib\\site-packages\\sklearn\\linear_model\\_sag.py:348: ConvergenceWarning: The max_iter was reached which means the coef_ did not converge\n",
      "  warnings.warn(\n",
      "c:\\Users\\Parsan Afzar\\AppData\\Local\\Programs\\Python\\Python313\\Lib\\site-packages\\sklearn\\linear_model\\_sag.py:348: ConvergenceWarning: The max_iter was reached which means the coef_ did not converge\n",
      "  warnings.warn(\n",
      "c:\\Users\\Parsan Afzar\\AppData\\Local\\Programs\\Python\\Python313\\Lib\\site-packages\\sklearn\\linear_model\\_sag.py:348: ConvergenceWarning: The max_iter was reached which means the coef_ did not converge\n",
      "  warnings.warn(\n",
      "c:\\Users\\Parsan Afzar\\AppData\\Local\\Programs\\Python\\Python313\\Lib\\site-packages\\sklearn\\linear_model\\_sag.py:348: ConvergenceWarning: The max_iter was reached which means the coef_ did not converge\n",
      "  warnings.warn(\n",
      "c:\\Users\\Parsan Afzar\\AppData\\Local\\Programs\\Python\\Python313\\Lib\\site-packages\\sklearn\\linear_model\\_sag.py:348: ConvergenceWarning: The max_iter was reached which means the coef_ did not converge\n",
      "  warnings.warn(\n",
      "c:\\Users\\Parsan Afzar\\AppData\\Local\\Programs\\Python\\Python313\\Lib\\site-packages\\sklearn\\linear_model\\_sag.py:348: ConvergenceWarning: The max_iter was reached which means the coef_ did not converge\n",
      "  warnings.warn(\n"
     ]
    },
    {
     "name": "stdout",
     "output_type": "stream",
     "text": [
      "Best parameters for Logistic Regression: {'C': 1, 'solver': 'liblinear'}\n",
      "\n",
      "Logistic Regression Classification Report on Validation Set:\n",
      "              precision    recall  f1-score   support\n",
      "\n",
      "           0       0.86      0.39      0.54        49\n",
      "           1       0.70      0.96      0.81        74\n",
      "\n",
      "    accuracy                           0.73       123\n",
      "   macro avg       0.78      0.67      0.67       123\n",
      "weighted avg       0.77      0.73      0.70       123\n",
      "\n",
      "\n",
      "Confusion Matrix for Logistic Regression:\n"
     ]
    },
    {
     "name": "stderr",
     "output_type": "stream",
     "text": [
      "c:\\Users\\Parsan Afzar\\AppData\\Local\\Programs\\Python\\Python313\\Lib\\site-packages\\sklearn\\linear_model\\_sag.py:348: ConvergenceWarning: The max_iter was reached which means the coef_ did not converge\n",
      "  warnings.warn(\n"
     ]
    },
    {
     "data": {
      "image/png": "[encoded data removed]",
      "text/plain": [
       "<Figure size 640x480 with 2 Axes>"
      ]
     },
     "metadata": {},
     "output_type": "display_data"
    }
   ],
   "source": [
    "from sklearn.linear_model import LogisticRegression\n",
    "from sklearn.model_selection import GridSearchCV\n",
    "from sklearn.metrics import accuracy_score, classification_report, confusion_matrix, ConfusionMatrixDisplay\n",
    "\n",
    "X_train_scaled_fixed = X_train_scaled.copy()\n",
    "X_train_scaled_fixed['Dependents'] = X_train_scaled_fixed['Dependents'].replace('3+', 3).astype(int)\n",
    "\n",
    "lr = LogisticRegression(random_state=42, max_iter=1000)\n",
    "param_grid_lr = {\n",
    "    'C':[0.01, 0.1, 1, 10, 100],\n",
    "    'solver':['liblinear', 'saga'],\n",
    "}\n",
    "\n",
    "grid_lr = GridSearchCV(lr, param_grid_lr, cv=5, scoring='f1')\n",
    "grid_lr.fit(X_train_scaled_fixed, y_train)\n",
    "\n",
    "print(f\"Best parameters for Logistic Regression: {grid_lr.best_params_}\")\n",
    "\n",
    "best_lr = grid_lr.best_estimator_\n",
    "\n",
    "X_val_scaled_fixed = X_val_scaled.copy()\n",
    "X_val_scaled_fixed['Dependents'] = X_val_scaled_fixed['Dependents'].replace('3+', 3).astype(int)\n",
    "\n",
    "y_pred_lr = best_lr.predict(X_val_scaled_fixed)\n",
    "\n",
    "print(\"\\nLogistic Regression Classification Report on Validation Set:\")\n",
    "print(classification_report(y_val, y_pred_lr))\n",
    "\n",
    "print(\"\\nConfusion Matrix for Logistic Regression:\")\n",
    "cm_lr = confusion_matrix(y_val, y_pred_lr)\n",
    "disp = ConfusionMatrixDisplay(confusion_matrix=cm_lr)\n",
    "disp.plot(cmap='Blues')\n",
    "plt.show()"
   ]
  },
  {
   "cell_type": "code",
   "execution_count": 31,
   "id": "5e733cf8",
   "metadata": {},
   "outputs": [
    {
     "name": "stdout",
     "output_type": "stream",
     "text": [
      "Final Model Performance on Test Set:\n",
      "              precision    recall  f1-score   support\n",
      "\n",
      "           0       0.89      0.44      0.59        36\n",
      "           1       0.81      0.98      0.89        87\n",
      "\n",
      "    accuracy                           0.82       123\n",
      "   macro avg       0.85      0.71      0.74       123\n",
      "weighted avg       0.83      0.82      0.80       123\n",
      "\n",
      "Final Confusion Matrix:\n"
     ]
    },
    {
     "data": {
      "image/png": "[encoded data removed]",
      "text/plain": [
       "<Figure size 640x480 with 2 Axes>"
      ]
     },
     "metadata": {},
     "output_type": "display_data"
    }
   ],
   "source": [
    "from matplotlib import pyplot as plt\n",
    "from sklearn.metrics import classification_report, ConfusionMatrixDisplay, confusion_matrix\n",
    "\n",
    "final_model = best_lr\n",
    "\n",
    "X_test_scaled_fixed = X_test_scaled.copy()\n",
    "X_test_scaled_fixed['Dependents'] = X_test_scaled_fixed['Dependents'].replace('3+', 3).astype(int)\n",
    "\n",
    "test_predictions = final_model.predict(X_test_scaled_fixed)\n",
    "\n",
    "print(\"Final Model Performance on Test Set:\")\n",
    "print(classification_report(y_test, test_predictions))\n",
    "\n",
    "print(\"Final Confusion Matrix:\")\n",
    "cm_test = confusion_matrix(y_test, test_predictions)\n",
    "disp = ConfusionMatrixDisplay(confusion_matrix=cm_test)\n",
    "disp.plot()\n",
    "plt.show()"
   ]
  },
  {
   "cell_type": "code",
   "execution_count": 32,
   "id": "c679f8a7",
   "metadata": {},
   "outputs": [
    {
     "name": "stdout",
     "output_type": "stream",
     "text": [
      "----------------------------------------\n",
      "Prediction: Loan Not Approved (Confidence: 94.08%)\n"
     ]
    }
   ],
   "source": [
    "new_application = {\n",
    "\t'Gender': 'Male',\n",
    "\t'Married': 'Yes',\n",
    "\t'Dependents': '1',\n",
    "\t'Education': 'Graduate',\n",
    "\t'Self_Employed': 'No',\n",
    "\t'ApplicantIncome': 5000,\n",
    "\t'CoapplicantIncome': 2000,\n",
    "\t'LoanAmount': 150,\n",
    "\t'Loan_Amount_Term': 360.0,\n",
    "\t'Credit_History': 1.0,\n",
    "\t'Property_Area': 'Urban'\n",
    "}\n",
    "new_df = pd.DataFrame([new_application])\n",
    "\n",
    "new_df['Education'] = new_df['Education'].map({'Graduate': 1, 'Not Graduate': 0})\n",
    "new_df = pd.get_dummies(new_df)\n",
    "\n",
    "new_df['ApplicantIncome_Log'] = np.log1p(new_df['ApplicantIncome'])\n",
    "new_df['CoapplicantIncome_Log'] = np.log1p(new_df['CoapplicantIncome']) \n",
    "new_df['LoanAmount_Log'] = np.log1p(new_df['LoanAmount'])\n",
    "\n",
    "new_df['Total_Income'] = new_df['ApplicantIncome'] + new_df['CoapplicantIncome']\n",
    "new_df['Loan_to_Income_Ratio'] = new_df['LoanAmount'] / new_df['Total_Income']\n",
    "new_df['Loan_per_Month'] = new_df['LoanAmount'] / (new_df['Loan_Amount_Term'] / 12)\n",
    "\n",
    "final_cols = [\n",
    "\t'Dependents', 'Education', 'Loan_Amount_Term', 'Gender_Male',\n",
    "\t'Married_Yes', 'Self_Employed_Yes', 'Credit_History_1.0',\n",
    "\t'Property_Area_Semiurban', 'Property_Area_Urban', 'Total_Income',\n",
    "\t'Loan_to_Income_Ratio', 'Loan_per_Month', 'ApplicantIncome_Log',\n",
    "\t'CoapplicantIncome_Log', 'LoanAmount_Log'\n",
    "]\n",
    "new_df_aligned = new_df.reindex(columns=final_cols, fill_value=0)\n",
    "\n",
    "if 'Dependents' in new_df_aligned.columns:\n",
    "\tnew_df_aligned['Dependents'] = new_df_aligned['Dependents'].replace({'3+': 3}).astype(int)\n",
    "\n",
    "cols_to_scale = ['ApplicantIncome_Log', 'CoapplicantIncome_Log', 'LoanAmount_Log',\n",
    "\t\t\t\t 'Total_Income', 'Loan_to_Income_Ratio', 'Loan_per_Month']\n",
    "\n",
    "new_df_aligned[cols_to_scale] = scaler.transform(new_df_aligned[cols_to_scale])\n",
    "\n",
    "#print(new_df_aligned.columns)\n",
    "\n",
    "prediction_result = final_model.predict(new_df_aligned)\n",
    "prediction_proba = final_model.predict_proba(new_df_aligned)\n",
    "\n",
    "\n",
    "\n",
    "print(\"-\" * 40)\n",
    "if prediction_result[0] == 1:\n",
    "\n",
    "    probability = prediction_proba[0][1]\n",
    "    print(f\"Prediction: Loan Approved (Confidence: {probability:.2%})\")\n",
    "else:\n",
    "\n",
    "    probability = prediction_proba[0][0]\n",
    "    print(f\"Prediction: Loan Not Approved (Confidence: {probability:.2%})\")"
   ]
  },
  {
   "cell_type": "markdown",
   "id": "42d7da54",
   "metadata": {},
   "source": [
    "KNN"
   ]
  },
  {
   "cell_type": "code",
   "execution_count": 39,
   "id": "68635045",
   "metadata": {},
   "outputs": [
    {
     "name": "stdout",
     "output_type": "stream",
     "text": [
      "Best parameters for KNN: {'n_neighbors': 13, 'weights': 'uniform'}\n",
      "\n",
      "KNN Classification Report on Validation Set:\n",
      "              precision    recall  f1-score   support\n",
      "\n",
      "           0       0.80      0.08      0.15        49\n",
      "           1       0.62      0.99      0.76        74\n",
      "\n",
      "    accuracy                           0.63       123\n",
      "   macro avg       0.71      0.53      0.45       123\n",
      "weighted avg       0.69      0.63      0.52       123\n",
      "\n",
      "\n",
      "Confusion Matrix for KNN:\n"
     ]
    },
    {
     "data": {
      "image/png": "[encoded data removed]",
      "text/plain": [
       "<Figure size 640x480 with 2 Axes>"
      ]
     },
     "metadata": {},
     "output_type": "display_data"
    }
   ],
   "source": [
    "from sklearn.neighbors import KNeighborsClassifier\n",
    "from sklearn.model_selection import GridSearchCV\n",
    "from sklearn.metrics import classification_report, confusion_matrix, ConfusionMatrixDisplay\n",
    "\n",
    "knn = KNeighborsClassifier()\n",
    "param_grid_knn = {\n",
    "    'n_neighbors': [3, 5, 7, 9, 11, 13, 15, 17, 19],\n",
    "    'weights': ['uniform', 'distance'],\n",
    "}\n",
    "\n",
    "grid_knn = GridSearchCV(knn, param_grid_knn, cv=5, scoring='f1')\n",
    "grid_knn.fit(X_train_scaled_fixed, y_train)\n",
    "\n",
    "print(f\"Best parameters for KNN: {grid_knn.best_params_}\")\n",
    "\n",
    "best_knn = grid_knn.best_estimator_\n",
    "y_pred_knn = best_knn.predict(X_val_scaled_fixed)\n",
    "\n",
    "print(\"\\nKNN Classification Report on Validation Set:\")\n",
    "print(classification_report(y_val, y_pred_knn))\n",
    "\n",
    "print(\"\\nConfusion Matrix for KNN:\")\n",
    "cm_knn = confusion_matrix(y_val, y_pred_knn)\n",
    "disp_knn = ConfusionMatrixDisplay(confusion_matrix=cm_knn)\n",
    "disp_knn.plot(cmap='Blues') \n",
    "plt.show()"
   ]
  },
  {
   "cell_type": "code",
   "execution_count": 41,
   "id": "e129ef78",
   "metadata": {},
   "outputs": [
    {
     "name": "stdout",
     "output_type": "stream",
     "text": [
      "----------------------------------------\n",
      "Prediction: Loan Not Approved (Confidence: 91.79%)\n"
     ]
    }
   ],
   "source": [
    "new_application = {\n",
    "    'Gender': 'Female',\n",
    "    'Married': 'No',\n",
    "    'Dependents': '0',\n",
    "    'Education': 'Graduate',\n",
    "    'Self_Employed': 'No',\n",
    "    'ApplicantIncome': 6000,\n",
    "    'CoapplicantIncome': 0,\n",
    "    'LoanAmount': 180,\n",
    "    'Loan_Amount_Term': 360.0,\n",
    "    'Credit_History': 1.0,\n",
    "    'Property_Area': 'Semiurban'\n",
    "}\n",
    "\n",
    "\n",
    "new_df = pd.DataFrame([new_application])\n",
    "\n",
    "new_df['Education'] = new_df['Education'].map({'Graduate': 1, 'Not Graduate': 0})\n",
    "new_df = pd.get_dummies(new_df)\n",
    "\n",
    "new_df['ApplicantIncome_Log'] = np.log1p(new_df['ApplicantIncome'])\n",
    "new_df['CoapplicantIncome_Log'] = np.log1p(new_df['CoapplicantIncome'])\n",
    "new_df['LoanAmount_Log'] = np.log1p(new_df['LoanAmount'])\n",
    "new_df['Total_Income'] = new_df['ApplicantIncome'] + new_df['CoapplicantIncome']\n",
    "new_df['Loan_to_Income_Ratio'] = new_df['LoanAmount'] / new_df['Total_Income']\n",
    "new_df['Loan_per_Month'] = new_df['LoanAmount'] / (new_df['Loan_Amount_Term'] / 12)\n",
    "\n",
    "final_cols = X_train.columns\n",
    "new_df_aligned = new_df.reindex(columns=final_cols, fill_value=0)\n",
    "\n",
    "cols_to_scale = ['ApplicantIncome_Log', 'CoapplicantIncome_Log', 'LoanAmount_Log',\n",
    "                 'Total_Income', 'Loan_to_Income_Ratio', 'Loan_per_Month']\n",
    "new_df_aligned[cols_to_scale] = scaler.transform(new_df_aligned[cols_to_scale])\n",
    "\n",
    "prediction_result = final_model.predict(new_df_aligned)\n",
    "prediction_proba = final_model.predict_proba(new_df_aligned)\n",
    "\n",
    "print(\"-\" * 40)\n",
    "if prediction_result[0] == 1:\n",
    "    probability = prediction_proba[0][1]\n",
    "    print(f\"Prediction: Loan Approved (Confidence: {probability:.2%})\")\n",
    "else:\n",
    "    probability = prediction_proba[0][0]\n",
    "    print(f\"Prediction: Loan Not Approved (Confidence: {probability:.2%})\")"
   ]
  },
  {
   "cell_type": "code",
   "execution_count": 43,
   "id": "73b1d3aa",
   "metadata": {},
   "outputs": [
    {
     "name": "stdout",
     "output_type": "stream",
     "text": [
      "\n",
      "ANN Classification Report on Validation Set:\n",
      "              precision    recall  f1-score   support\n",
      "\n",
      "           0       0.85      0.47      0.61        49\n",
      "           1       0.73      0.95      0.82        74\n",
      "\n",
      "    accuracy                           0.76       123\n",
      "   macro avg       0.79      0.71      0.71       123\n",
      "weighted avg       0.78      0.76      0.74       123\n",
      "\n",
      "\n",
      "Confusion Matrix for ANN:\n"
     ]
    },
    {
     "data": {
      "image/png": "[encoded data removed]",
      "text/plain": [
       "<Figure size 640x480 with 2 Axes>"
      ]
     },
     "metadata": {},
     "output_type": "display_data"
    }
   ],
   "source": [
    "from sklearn.neural_network import MLPClassifier\n",
    "from sklearn.model_selection import GridSearchCV\n",
    "from sklearn.metrics import classification_report, confusion_matrix, ConfusionMatrixDisplay\n",
    "\n",
    "ann = MLPClassifier(random_state=42, max_iter=1000)\n",
    "param_grid_ann = {\n",
    "    'hidden_layer_sizes': [(50, 50), (100,)],\n",
    "    'activation': ['relu', 'tanh'],\n",
    "    'alpha': [0.001, 0.01]\n",
    "}\n",
    "\n",
    "grid_ann = GridSearchCV(ann, param_grid_ann, cv=5, scoring='f1', n_jobs=-1)\n",
    "grid_ann.fit(X_train_scaled_fixed, y_train)\n",
    "\n",
    "best_ann = grid_ann.best_estimator_\n",
    "y_pred_ann = best_ann.predict(X_val_scaled_fixed)\n",
    "\n",
    "print(\"\\nANN Classification Report on Validation Set:\")\n",
    "print(classification_report(y_val, y_pred_ann))\n",
    "\n",
    "print(\"\\nConfusion Matrix for ANN:\")\n",
    "cm_ann = confusion_matrix(y_val, y_pred_ann)\n",
    "disp_ann = ConfusionMatrixDisplay(confusion_matrix=cm_ann)\n",
    "disp_ann.plot(cmap='Blues')\n",
    "plt.show()"
   ]
  },
  {
   "cell_type": "code",
   "execution_count": 45,
   "id": "bf61a822",
   "metadata": {},
   "outputs": [
    {
     "name": "stdout",
     "output_type": "stream",
     "text": [
      "----------------------------------------\n",
      "Prediction: Loan Not Approved (Confidence: 64.88%)\n"
     ]
    }
   ],
   "source": [
    "new_application = {\n",
    "    'Gender': 'Female',\n",
    "    'Married': 'Yes',\n",
    "    'Dependents': '0',\n",
    "    'Education': 'Graduate',\n",
    "    'Self_Employed': 'No',\n",
    "    'ApplicantIncome': 6000,\n",
    "    'CoapplicantIncome': 0,\n",
    "    'LoanAmount': 180,\n",
    "    'Loan_Amount_Term': 360.0,\n",
    "    'Credit_History': 1.0,\n",
    "    'Property_Area': 'Semiurban'\n",
    "}\n",
    "\n",
    "new_df = pd.DataFrame([new_application])\n",
    "\n",
    "new_df['Education'] = new_df['Education'].map({'Graduate': 1, 'Not Graduate': 0})\n",
    "new_df = pd.get_dummies(new_df)\n",
    "\n",
    "new_df['ApplicantIncome_Log'] = np.log1p(new_df['ApplicantIncome'])\n",
    "new_df['CoapplicantIncome_Log'] = np.log1p(new_df['CoapplicantIncome'])\n",
    "new_df['LoanAmount_Log'] = np.log1p(new_df['LoanAmount'])\n",
    "new_df['Total_Income'] = new_df['ApplicantIncome'] + new_df['CoapplicantIncome']\n",
    "new_df['Loan_to_Income_Ratio'] = new_df['LoanAmount'] / new_df['Total_Income']\n",
    "new_df['Loan_per_Month'] = new_df['LoanAmount'] / (new_df['Loan_Amount_Term'] / 12)\n",
    "\n",
    "final_cols = X_train.columns\n",
    "new_df_aligned = new_df.reindex(columns=final_cols, fill_value=0)\n",
    "\n",
    "cols_to_scale = ['ApplicantIncome_Log', 'CoapplicantIncome_Log', 'LoanAmount_Log',\n",
    "                 'Total_Income', 'Loan_to_Income_Ratio', 'Loan_per_Month']\n",
    "new_df_aligned[cols_to_scale] = scaler.transform(new_df_aligned[cols_to_scale])\n",
    "\n",
    "prediction_result = best_ann.predict(new_df_aligned)\n",
    "prediction_proba = best_ann.predict_proba(new_df_aligned)\n",
    "\n",
    "print(\"-\" * 40)\n",
    "if prediction_result[0] == 1:\n",
    "    probability = prediction_proba[0][1]\n",
    "    print(f\"Prediction: Loan Approved (Confidence: {probability:.2%})\")\n",
    "else:\n",
    "    probability = prediction_proba[0][0]\n",
    "    print(f\"Prediction: Loan Not Approved (Confidence: {probability:.2%})\")"
   ]
  },
  {
   "cell_type": "code",
   "execution_count": null,
   "id": "2d654250",
   "metadata": {},
   "outputs": [],
   "source": []
  }
 ],
 "metadata": {
  "kernelspec": {
   "display_name": "Python 3",
   "language": "python",
   "name": "python3"
  },
  "language_info": {
   "codemirror_mode": {
    "name": "ipython",
    "version": 3
   },
   "file_extension": ".py",
   "mimetype": "text/x-python",
   "name": "python",
   "nbconvert_exporter": "python",
   "pygments_lexer": "ipython3",
   "version": "3.13.5"
  }
 },
 "nbformat": 4,
 "nbformat_minor": 5
}
